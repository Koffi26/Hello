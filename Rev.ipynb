{
  "nbformat": 4,
  "nbformat_minor": 0,
  "metadata": {
    "colab": {
      "provenance": [],
      "collapsed_sections": [
        "bBYOV5g08R8l",
        "w-HECQc08XyF"
      ],
      "mount_file_id": "14RRZTkEh4oX6xzp90qrbyvwKXEJGBaM9",
      "authorship_tag": "ABX9TyOrNKxDMdDpPpZ9XTsyXDps",
      "include_colab_link": true
    },
    "kernelspec": {
      "name": "python3",
      "display_name": "Python 3"
    },
    "language_info": {
      "name": "python"
    }
  },
  "cells": [
    {
      "cell_type": "markdown",
      "metadata": {
        "id": "view-in-github",
        "colab_type": "text"
      },
      "source": [
        "<a href=\"https://colab.research.google.com/github/Koffi26/Hello/blob/master/Rev.ipynb\" target=\"_parent\"><img src=\"https://colab.research.google.com/assets/colab-badge.svg\" alt=\"Open In Colab\"/></a>"
      ]
    },
    {
      "cell_type": "markdown",
      "source": [
        "# NLP Using Sephora Comments\n",
        "\n",
        "\n",
        "---\n",
        "\n",
        "\n"
      ],
      "metadata": {
        "id": "oZr9at6t8NH5"
      }
    },
    {
      "cell_type": "markdown",
      "source": [
        "## Files directions and modules\n"
      ],
      "metadata": {
        "id": "bBYOV5g08R8l"
      }
    },
    {
      "cell_type": "code",
      "execution_count": 45,
      "metadata": {
        "id": "lO3CPR7jzqt4"
      },
      "outputs": [],
      "source": [
        "inputPath = \"/content/drive/MyDrive/Reviews/raw\"\n",
        "outputPath = \"/content/drive/MyDrive/Reviews/cleaned\""
      ]
    },
    {
      "cell_type": "code",
      "source": [
        "import pandas as pd"
      ],
      "metadata": {
        "id": "XS5Rr53cz0vv"
      },
      "execution_count": 2,
      "outputs": []
    },
    {
      "cell_type": "markdown",
      "source": [
        "## Get Cleaned Informations"
      ],
      "metadata": {
        "id": "w-HECQc08XyF"
      }
    },
    {
      "cell_type": "markdown",
      "source": [
        "### Get General Information\n"
      ],
      "metadata": {
        "id": "vbyQdeC_5hhl"
      }
    },
    {
      "cell_type": "code",
      "source": [
        "dbs = pd.read_json(f\"{inputPath}/productInformations.json\")\n",
        "dbs['skuId'] = dbs['skuId'].astype(str)\n",
        "information = [\"skuId\",\"brandName\",\"displayName\",\"isNew\",\"listPrice\",\"productName\",\"size\",\"productId\",\n",
        "'Category1', 'Category2', 'Category3', 'brand','lovesCount', 'rating', 'reviews',\n",
        "  'update']\n",
        "GeneralInfo = dbs[information]\n",
        "GeneralInfo['listPrice'] = GeneralInfo['listPrice'].fillna(0)\n",
        "GeneralInfo['listPrice'] = GeneralInfo['listPrice'].apply(lambda x : float(str(x).replace(\"$\",\"\")))\n",
        "GeneralInfo.drop_duplicates(subset=\"skuId\",inplace=True)\n",
        "GeneralInfo.to_csv(f\"{outputPath}/AgregateInfo.csv\",index=F)"
      ],
      "metadata": {
        "colab": {
          "base_uri": "https://localhost:8080/"
        },
        "id": "CV1jOBroz3YI",
        "outputId": "3c2137fe-f430-42db-fc2a-f97f57d219c3"
      },
      "execution_count": 46,
      "outputs": [
        {
          "output_type": "stream",
          "name": "stderr",
          "text": [
            "<ipython-input-46-3b5ec7a42256>:7: SettingWithCopyWarning: \n",
            "A value is trying to be set on a copy of a slice from a DataFrame.\n",
            "Try using .loc[row_indexer,col_indexer] = value instead\n",
            "\n",
            "See the caveats in the documentation: https://pandas.pydata.org/pandas-docs/stable/user_guide/indexing.html#returning-a-view-versus-a-copy\n",
            "  GeneralInfo['listPrice'] = GeneralInfo['listPrice'].fillna(0)\n",
            "<ipython-input-46-3b5ec7a42256>:8: SettingWithCopyWarning: \n",
            "A value is trying to be set on a copy of a slice from a DataFrame.\n",
            "Try using .loc[row_indexer,col_indexer] = value instead\n",
            "\n",
            "See the caveats in the documentation: https://pandas.pydata.org/pandas-docs/stable/user_guide/indexing.html#returning-a-view-versus-a-copy\n",
            "  GeneralInfo['listPrice'] = GeneralInfo['listPrice'].apply(lambda x : float(str(x).replace(\"$\",\"\")))\n",
            "<ipython-input-46-3b5ec7a42256>:9: SettingWithCopyWarning: \n",
            "A value is trying to be set on a copy of a slice from a DataFrame\n",
            "\n",
            "See the caveats in the documentation: https://pandas.pydata.org/pandas-docs/stable/user_guide/indexing.html#returning-a-view-versus-a-copy\n",
            "  GeneralInfo.drop_duplicates(subset=\"skuId\",inplace=True)\n"
          ]
        }
      ]
    },
    {
      "cell_type": "markdown",
      "source": [
        "### Get Highlights"
      ],
      "metadata": {
        "id": "SllhlEBI8qiS"
      }
    },
    {
      "source": [
        "highlight_df = []\n",
        "for idx,i in enumerate(dbs['highlights']) :\n",
        "  dt = dbs['highlights'][idx]\n",
        "  # Check if dt is a list before iterating\n",
        "  if isinstance(dt, list):\n",
        "    high = pd.DataFrame({\n",
        "        'skuId' : dbs['skuId'][idx],\n",
        "        'highlights' : [i['altText'] for i in dt if dt]\n",
        "    })\n",
        "    highlight_df.append(high)\n",
        "  else:\n",
        "    high = pd.DataFrame({\n",
        "        'skuId' : [dbs['skuId'][idx]],\n",
        "        'highlights' : [[]]\n",
        "    })\n",
        "    highlight_df.append(high)\n",
        "highlight_df = pd.concat(highlight_df)\n",
        "highlight_df = highlight_df.explode('highlights')\n",
        "highlight_df.to_csv(f\"{outputPath}/AgregateHighlights.csv\",index=False)"
      ],
      "cell_type": "code",
      "metadata": {
        "id": "OhrID_V67VPk"
      },
      "execution_count": 73,
      "outputs": []
    },
    {
      "cell_type": "markdown",
      "source": [
        "## NLP on ShortDesc & Ingredients"
      ],
      "metadata": {
        "id": "dA6fLQhi9CsN"
      }
    },
    {
      "cell_type": "code",
      "source": [
        "ingredientDesc = dbs[['skuId','ingredientDesc']]\n",
        "ingredientDesc.drop_duplicates(subset=\"skuId\",inplace=True)\n",
        "ingredientDesc.dropna(inplace=True)\n",
        "ingredientDesc.to_csv(f\"{outputPath}/AgregateIngredientDesc.csv\",index=False)\n",
        "#"
      ],
      "metadata": {
        "colab": {
          "base_uri": "https://localhost:8080/"
        },
        "id": "Y5flv-f-89CC",
        "outputId": "cecef32c-f009-4a07-c583-c778b8733781"
      },
      "execution_count": 81,
      "outputs": [
        {
          "output_type": "stream",
          "name": "stderr",
          "text": [
            "<ipython-input-81-e588650509e7>:2: SettingWithCopyWarning: \n",
            "A value is trying to be set on a copy of a slice from a DataFrame\n",
            "\n",
            "See the caveats in the documentation: https://pandas.pydata.org/pandas-docs/stable/user_guide/indexing.html#returning-a-view-versus-a-copy\n",
            "  ingredientDesc.drop_duplicates(subset=\"skuId\",inplace=True)\n",
            "<ipython-input-81-e588650509e7>:3: SettingWithCopyWarning: \n",
            "A value is trying to be set on a copy of a slice from a DataFrame\n",
            "\n",
            "See the caveats in the documentation: https://pandas.pydata.org/pandas-docs/stable/user_guide/indexing.html#returning-a-view-versus-a-copy\n",
            "  ingredientDesc.dropna(inplace=True)\n"
          ]
        }
      ]
    },
    {
      "cell_type": "code",
      "source": [
        "ingredientDesc"
      ],
      "metadata": {
        "colab": {
          "base_uri": "https://localhost:8080/",
          "height": 423
        },
        "id": "vvbyV-QH9u5l",
        "outputId": "9b81adc0-290a-4c97-892e-a530d1ce9ce6"
      },
      "execution_count": 82,
      "outputs": [
        {
          "output_type": "execute_result",
          "data": {
            "text/plain": [
              "           skuId                                     ingredientDesc\n",
              "0      2568871.0  -Zinc Oxide and Titanium Dioxide (Mineral Suns...\n",
              "1      2762060.0  -DHA: Visibly colors the upper skin layer with...\n",
              "3      2741023.0  77% vol. Alcohol Denat., Parfum (Fragrance), A...\n",
              "4      2741015.0  <p>77% vol. Alcohol Denat., Parfum (Fragrance)...\n",
              "5      2741031.0  <p>77% vol. Alcohol Denat., Parfum (Fragrance)...\n",
              "...          ...                                                ...\n",
              "21618  2472140.0  -Caffeine: Helps visibly de-puff and support s...\n",
              "21619  2472157.0  -Caffeine: Helps visibly de-puff and support s...\n",
              "21620  2472165.0  -Caffeine: Helps visibly de-puff and support s...\n",
              "21621  2472173.0  -Caffeine: Helps visibly de-puff and support s...\n",
              "21622  2472181.0  -Caffeine: Helps visibly de-puff and support s...\n",
              "\n",
              "[18934 rows x 2 columns]"
            ],
            "text/html": [
              "\n",
              "  <div id=\"df-d30d47d6-a501-47fa-939a-cede6579cd86\" class=\"colab-df-container\">\n",
              "    <div>\n",
              "<style scoped>\n",
              "    .dataframe tbody tr th:only-of-type {\n",
              "        vertical-align: middle;\n",
              "    }\n",
              "\n",
              "    .dataframe tbody tr th {\n",
              "        vertical-align: top;\n",
              "    }\n",
              "\n",
              "    .dataframe thead th {\n",
              "        text-align: right;\n",
              "    }\n",
              "</style>\n",
              "<table border=\"1\" class=\"dataframe\">\n",
              "  <thead>\n",
              "    <tr style=\"text-align: right;\">\n",
              "      <th></th>\n",
              "      <th>skuId</th>\n",
              "      <th>ingredientDesc</th>\n",
              "    </tr>\n",
              "  </thead>\n",
              "  <tbody>\n",
              "    <tr>\n",
              "      <th>0</th>\n",
              "      <td>2568871.0</td>\n",
              "      <td>-Zinc Oxide and Titanium Dioxide (Mineral Suns...</td>\n",
              "    </tr>\n",
              "    <tr>\n",
              "      <th>1</th>\n",
              "      <td>2762060.0</td>\n",
              "      <td>-DHA: Visibly colors the upper skin layer with...</td>\n",
              "    </tr>\n",
              "    <tr>\n",
              "      <th>3</th>\n",
              "      <td>2741023.0</td>\n",
              "      <td>77% vol. Alcohol Denat., Parfum (Fragrance), A...</td>\n",
              "    </tr>\n",
              "    <tr>\n",
              "      <th>4</th>\n",
              "      <td>2741015.0</td>\n",
              "      <td>&lt;p&gt;77% vol. Alcohol Denat., Parfum (Fragrance)...</td>\n",
              "    </tr>\n",
              "    <tr>\n",
              "      <th>5</th>\n",
              "      <td>2741031.0</td>\n",
              "      <td>&lt;p&gt;77% vol. Alcohol Denat., Parfum (Fragrance)...</td>\n",
              "    </tr>\n",
              "    <tr>\n",
              "      <th>...</th>\n",
              "      <td>...</td>\n",
              "      <td>...</td>\n",
              "    </tr>\n",
              "    <tr>\n",
              "      <th>21618</th>\n",
              "      <td>2472140.0</td>\n",
              "      <td>-Caffeine: Helps visibly de-puff and support s...</td>\n",
              "    </tr>\n",
              "    <tr>\n",
              "      <th>21619</th>\n",
              "      <td>2472157.0</td>\n",
              "      <td>-Caffeine: Helps visibly de-puff and support s...</td>\n",
              "    </tr>\n",
              "    <tr>\n",
              "      <th>21620</th>\n",
              "      <td>2472165.0</td>\n",
              "      <td>-Caffeine: Helps visibly de-puff and support s...</td>\n",
              "    </tr>\n",
              "    <tr>\n",
              "      <th>21621</th>\n",
              "      <td>2472173.0</td>\n",
              "      <td>-Caffeine: Helps visibly de-puff and support s...</td>\n",
              "    </tr>\n",
              "    <tr>\n",
              "      <th>21622</th>\n",
              "      <td>2472181.0</td>\n",
              "      <td>-Caffeine: Helps visibly de-puff and support s...</td>\n",
              "    </tr>\n",
              "  </tbody>\n",
              "</table>\n",
              "<p>18934 rows × 2 columns</p>\n",
              "</div>\n",
              "    <div class=\"colab-df-buttons\">\n",
              "\n",
              "  <div class=\"colab-df-container\">\n",
              "    <button class=\"colab-df-convert\" onclick=\"convertToInteractive('df-d30d47d6-a501-47fa-939a-cede6579cd86')\"\n",
              "            title=\"Convert this dataframe to an interactive table.\"\n",
              "            style=\"display:none;\">\n",
              "\n",
              "  <svg xmlns=\"http://www.w3.org/2000/svg\" height=\"24px\" viewBox=\"0 -960 960 960\">\n",
              "    <path d=\"M120-120v-720h720v720H120Zm60-500h600v-160H180v160Zm220 220h160v-160H400v160Zm0 220h160v-160H400v160ZM180-400h160v-160H180v160Zm440 0h160v-160H620v160ZM180-180h160v-160H180v160Zm440 0h160v-160H620v160Z\"/>\n",
              "  </svg>\n",
              "    </button>\n",
              "\n",
              "  <style>\n",
              "    .colab-df-container {\n",
              "      display:flex;\n",
              "      gap: 12px;\n",
              "    }\n",
              "\n",
              "    .colab-df-convert {\n",
              "      background-color: #E8F0FE;\n",
              "      border: none;\n",
              "      border-radius: 50%;\n",
              "      cursor: pointer;\n",
              "      display: none;\n",
              "      fill: #1967D2;\n",
              "      height: 32px;\n",
              "      padding: 0 0 0 0;\n",
              "      width: 32px;\n",
              "    }\n",
              "\n",
              "    .colab-df-convert:hover {\n",
              "      background-color: #E2EBFA;\n",
              "      box-shadow: 0px 1px 2px rgba(60, 64, 67, 0.3), 0px 1px 3px 1px rgba(60, 64, 67, 0.15);\n",
              "      fill: #174EA6;\n",
              "    }\n",
              "\n",
              "    .colab-df-buttons div {\n",
              "      margin-bottom: 4px;\n",
              "    }\n",
              "\n",
              "    [theme=dark] .colab-df-convert {\n",
              "      background-color: #3B4455;\n",
              "      fill: #D2E3FC;\n",
              "    }\n",
              "\n",
              "    [theme=dark] .colab-df-convert:hover {\n",
              "      background-color: #434B5C;\n",
              "      box-shadow: 0px 1px 3px 1px rgba(0, 0, 0, 0.15);\n",
              "      filter: drop-shadow(0px 1px 2px rgba(0, 0, 0, 0.3));\n",
              "      fill: #FFFFFF;\n",
              "    }\n",
              "  </style>\n",
              "\n",
              "    <script>\n",
              "      const buttonEl =\n",
              "        document.querySelector('#df-d30d47d6-a501-47fa-939a-cede6579cd86 button.colab-df-convert');\n",
              "      buttonEl.style.display =\n",
              "        google.colab.kernel.accessAllowed ? 'block' : 'none';\n",
              "\n",
              "      async function convertToInteractive(key) {\n",
              "        const element = document.querySelector('#df-d30d47d6-a501-47fa-939a-cede6579cd86');\n",
              "        const dataTable =\n",
              "          await google.colab.kernel.invokeFunction('convertToInteractive',\n",
              "                                                    [key], {});\n",
              "        if (!dataTable) return;\n",
              "\n",
              "        const docLinkHtml = 'Like what you see? Visit the ' +\n",
              "          '<a target=\"_blank\" href=https://colab.research.google.com/notebooks/data_table.ipynb>data table notebook</a>'\n",
              "          + ' to learn more about interactive tables.';\n",
              "        element.innerHTML = '';\n",
              "        dataTable['output_type'] = 'display_data';\n",
              "        await google.colab.output.renderOutput(dataTable, element);\n",
              "        const docLink = document.createElement('div');\n",
              "        docLink.innerHTML = docLinkHtml;\n",
              "        element.appendChild(docLink);\n",
              "      }\n",
              "    </script>\n",
              "  </div>\n",
              "\n",
              "\n",
              "<div id=\"df-0f4a7aa4-0802-451e-977b-997f9f0b78b4\">\n",
              "  <button class=\"colab-df-quickchart\" onclick=\"quickchart('df-0f4a7aa4-0802-451e-977b-997f9f0b78b4')\"\n",
              "            title=\"Suggest charts\"\n",
              "            style=\"display:none;\">\n",
              "\n",
              "<svg xmlns=\"http://www.w3.org/2000/svg\" height=\"24px\"viewBox=\"0 0 24 24\"\n",
              "     width=\"24px\">\n",
              "    <g>\n",
              "        <path d=\"M19 3H5c-1.1 0-2 .9-2 2v14c0 1.1.9 2 2 2h14c1.1 0 2-.9 2-2V5c0-1.1-.9-2-2-2zM9 17H7v-7h2v7zm4 0h-2V7h2v10zm4 0h-2v-4h2v4z\"/>\n",
              "    </g>\n",
              "</svg>\n",
              "  </button>\n",
              "\n",
              "<style>\n",
              "  .colab-df-quickchart {\n",
              "      --bg-color: #E8F0FE;\n",
              "      --fill-color: #1967D2;\n",
              "      --hover-bg-color: #E2EBFA;\n",
              "      --hover-fill-color: #174EA6;\n",
              "      --disabled-fill-color: #AAA;\n",
              "      --disabled-bg-color: #DDD;\n",
              "  }\n",
              "\n",
              "  [theme=dark] .colab-df-quickchart {\n",
              "      --bg-color: #3B4455;\n",
              "      --fill-color: #D2E3FC;\n",
              "      --hover-bg-color: #434B5C;\n",
              "      --hover-fill-color: #FFFFFF;\n",
              "      --disabled-bg-color: #3B4455;\n",
              "      --disabled-fill-color: #666;\n",
              "  }\n",
              "\n",
              "  .colab-df-quickchart {\n",
              "    background-color: var(--bg-color);\n",
              "    border: none;\n",
              "    border-radius: 50%;\n",
              "    cursor: pointer;\n",
              "    display: none;\n",
              "    fill: var(--fill-color);\n",
              "    height: 32px;\n",
              "    padding: 0;\n",
              "    width: 32px;\n",
              "  }\n",
              "\n",
              "  .colab-df-quickchart:hover {\n",
              "    background-color: var(--hover-bg-color);\n",
              "    box-shadow: 0 1px 2px rgba(60, 64, 67, 0.3), 0 1px 3px 1px rgba(60, 64, 67, 0.15);\n",
              "    fill: var(--button-hover-fill-color);\n",
              "  }\n",
              "\n",
              "  .colab-df-quickchart-complete:disabled,\n",
              "  .colab-df-quickchart-complete:disabled:hover {\n",
              "    background-color: var(--disabled-bg-color);\n",
              "    fill: var(--disabled-fill-color);\n",
              "    box-shadow: none;\n",
              "  }\n",
              "\n",
              "  .colab-df-spinner {\n",
              "    border: 2px solid var(--fill-color);\n",
              "    border-color: transparent;\n",
              "    border-bottom-color: var(--fill-color);\n",
              "    animation:\n",
              "      spin 1s steps(1) infinite;\n",
              "  }\n",
              "\n",
              "  @keyframes spin {\n",
              "    0% {\n",
              "      border-color: transparent;\n",
              "      border-bottom-color: var(--fill-color);\n",
              "      border-left-color: var(--fill-color);\n",
              "    }\n",
              "    20% {\n",
              "      border-color: transparent;\n",
              "      border-left-color: var(--fill-color);\n",
              "      border-top-color: var(--fill-color);\n",
              "    }\n",
              "    30% {\n",
              "      border-color: transparent;\n",
              "      border-left-color: var(--fill-color);\n",
              "      border-top-color: var(--fill-color);\n",
              "      border-right-color: var(--fill-color);\n",
              "    }\n",
              "    40% {\n",
              "      border-color: transparent;\n",
              "      border-right-color: var(--fill-color);\n",
              "      border-top-color: var(--fill-color);\n",
              "    }\n",
              "    60% {\n",
              "      border-color: transparent;\n",
              "      border-right-color: var(--fill-color);\n",
              "    }\n",
              "    80% {\n",
              "      border-color: transparent;\n",
              "      border-right-color: var(--fill-color);\n",
              "      border-bottom-color: var(--fill-color);\n",
              "    }\n",
              "    90% {\n",
              "      border-color: transparent;\n",
              "      border-bottom-color: var(--fill-color);\n",
              "    }\n",
              "  }\n",
              "</style>\n",
              "\n",
              "  <script>\n",
              "    async function quickchart(key) {\n",
              "      const quickchartButtonEl =\n",
              "        document.querySelector('#' + key + ' button');\n",
              "      quickchartButtonEl.disabled = true;  // To prevent multiple clicks.\n",
              "      quickchartButtonEl.classList.add('colab-df-spinner');\n",
              "      try {\n",
              "        const charts = await google.colab.kernel.invokeFunction(\n",
              "            'suggestCharts', [key], {});\n",
              "      } catch (error) {\n",
              "        console.error('Error during call to suggestCharts:', error);\n",
              "      }\n",
              "      quickchartButtonEl.classList.remove('colab-df-spinner');\n",
              "      quickchartButtonEl.classList.add('colab-df-quickchart-complete');\n",
              "    }\n",
              "    (() => {\n",
              "      let quickchartButtonEl =\n",
              "        document.querySelector('#df-0f4a7aa4-0802-451e-977b-997f9f0b78b4 button');\n",
              "      quickchartButtonEl.style.display =\n",
              "        google.colab.kernel.accessAllowed ? 'block' : 'none';\n",
              "    })();\n",
              "  </script>\n",
              "</div>\n",
              "\n",
              "  <div id=\"id_c273e7c4-3e8a-4f65-b164-75c6654d91f8\">\n",
              "    <style>\n",
              "      .colab-df-generate {\n",
              "        background-color: #E8F0FE;\n",
              "        border: none;\n",
              "        border-radius: 50%;\n",
              "        cursor: pointer;\n",
              "        display: none;\n",
              "        fill: #1967D2;\n",
              "        height: 32px;\n",
              "        padding: 0 0 0 0;\n",
              "        width: 32px;\n",
              "      }\n",
              "\n",
              "      .colab-df-generate:hover {\n",
              "        background-color: #E2EBFA;\n",
              "        box-shadow: 0px 1px 2px rgba(60, 64, 67, 0.3), 0px 1px 3px 1px rgba(60, 64, 67, 0.15);\n",
              "        fill: #174EA6;\n",
              "      }\n",
              "\n",
              "      [theme=dark] .colab-df-generate {\n",
              "        background-color: #3B4455;\n",
              "        fill: #D2E3FC;\n",
              "      }\n",
              "\n",
              "      [theme=dark] .colab-df-generate:hover {\n",
              "        background-color: #434B5C;\n",
              "        box-shadow: 0px 1px 3px 1px rgba(0, 0, 0, 0.15);\n",
              "        filter: drop-shadow(0px 1px 2px rgba(0, 0, 0, 0.3));\n",
              "        fill: #FFFFFF;\n",
              "      }\n",
              "    </style>\n",
              "    <button class=\"colab-df-generate\" onclick=\"generateWithVariable('ingredientDesc')\"\n",
              "            title=\"Generate code using this dataframe.\"\n",
              "            style=\"display:none;\">\n",
              "\n",
              "  <svg xmlns=\"http://www.w3.org/2000/svg\" height=\"24px\"viewBox=\"0 0 24 24\"\n",
              "       width=\"24px\">\n",
              "    <path d=\"M7,19H8.4L18.45,9,17,7.55,7,17.6ZM5,21V16.75L18.45,3.32a2,2,0,0,1,2.83,0l1.4,1.43a1.91,1.91,0,0,1,.58,1.4,1.91,1.91,0,0,1-.58,1.4L9.25,21ZM18.45,9,17,7.55Zm-12,3A5.31,5.31,0,0,0,4.9,8.1,5.31,5.31,0,0,0,1,6.5,5.31,5.31,0,0,0,4.9,4.9,5.31,5.31,0,0,0,6.5,1,5.31,5.31,0,0,0,8.1,4.9,5.31,5.31,0,0,0,12,6.5,5.46,5.46,0,0,0,6.5,12Z\"/>\n",
              "  </svg>\n",
              "    </button>\n",
              "    <script>\n",
              "      (() => {\n",
              "      const buttonEl =\n",
              "        document.querySelector('#id_c273e7c4-3e8a-4f65-b164-75c6654d91f8 button.colab-df-generate');\n",
              "      buttonEl.style.display =\n",
              "        google.colab.kernel.accessAllowed ? 'block' : 'none';\n",
              "\n",
              "      buttonEl.onclick = () => {\n",
              "        google.colab.notebook.generateWithVariable('ingredientDesc');\n",
              "      }\n",
              "      })();\n",
              "    </script>\n",
              "  </div>\n",
              "\n",
              "    </div>\n",
              "  </div>\n"
            ],
            "application/vnd.google.colaboratory.intrinsic+json": {
              "type": "dataframe",
              "variable_name": "ingredientDesc",
              "summary": "{\n  \"name\": \"ingredientDesc\",\n  \"rows\": 18934,\n  \"fields\": [\n    {\n      \"column\": \"skuId\",\n      \"properties\": {\n        \"dtype\": \"string\",\n        \"num_unique_values\": 18934,\n        \"samples\": [\n          \"2743284.0\",\n          \"2739373.0\",\n          \"2553287.0\"\n        ],\n        \"semantic_type\": \"\",\n        \"description\": \"\"\n      }\n    },\n    {\n      \"column\": \"ingredientDesc\",\n      \"properties\": {\n        \"dtype\": \"string\",\n        \"num_unique_values\": 10344,\n        \"samples\": [\n          \"Synthetic Fluorphlogopite, Talc, Magnesium Myristate, Hdi/Trimethylol Hexyllactone Crosspolymer, Mica, Polymethyl Methacrylate, Dimethicone, Isodecyl Neopentanoate, Silica, Trimethylsiloxysilicate, Triethoxycaprylylsilane, Polypropylsilsesquioxane, Diisostearyl Malate, Caprylyl Glycol, Dimethiconol, Phenoxyethanol, Octyldodecyl Stearoyl Stearate, Hexylene Glycol, Lauroyl Lysine, Tocopheryl Acetate, Tocopherol, Water, Maltodextrin, Carica Papaya (Papaya) Fruit Extract, Mangifera Indica (Mango) Fruit Extract, Calcium Sodium Borosilicate, Calcium Aluminum Borosilicate, Xanthan Gum, Ethylhexylglycerin, Sorbic Acid, Tin Oxide, Iron Oxides (Ci 77491, Ci 77492, Ci 77499), Titanium Dioxide (Ci 77891), Manganese Violet (Ci 77742).\",\n          \"Isohexadecane, Isododecane, C12-15 Alkyl Benzoate, Hydrogenated Polyisobutene, Isononyl Isononanoate, Synthetic Fluorphlogopite, PEG-10 Dimethicone, Trimethylsiloxysilicate, Disteardimonium Hectorite, Dimethicone, Silica, Propylene Carbonate, Triethoxycaprylylsilane, Helianthus Annuus (Sunflower) Seed Oil, Tocopherol, Gardenia Florida Fruit Extract, Nelumbo Nucifera (Sacred Lotus) Flower Extract, Nymphaea Odorata Root Extract, Phenoxyethanol,  Achillea Millefolium Flower/Leaf/Stem Extract, Ascophyllum Nodosum Extract, Panax Ginseng Root Extract, Passiflora Edulis (Passion Fruit) Fruit Extract, Tilia Cordata (Linden) Flower Extract, Tussilago Farfara (Coltsfoot) Leaf Extract, [+/- May Contain/Peut Contenir: Titanium Dioxide (CI 77891), Iron Oxides (CI 77491, CI 77492, CI 77499)].\",\n          \"-Sugar: A natural humectant known to prevent moisture loss.<br>-Berry Wax: Conditions and protects the lip moisture barrier.<br>-Hyaluronic Filling Spheres: Attract and hold moisture.<br><br>Isononyl Isononanoate, Polybutene, C10-30 Cholesterol/Lanosterol Esters, Bis-Diglyceryl Polyacyladipate-2, Diisostearyl Malate, Polyethylene, Isostearyl Isostearate, Hydrogenated Polyisobutene, Vitis Vinifera (Grape) Seed Oil, Rhus Verniciflua Peel Wax, Ethylene/Propylene/Styrene Copolymer, Vinyl Dimethicone/Methicone Silsesquioxane Crosspolymer, Butyrospermum Parkii (Shea) Butter, Butyrospermum Parkii (Shea) Butter Unsaponifiables, Sucrose Tetrastearate Triacetate, Ribes Nigrum (Black Currant) Seed Oil, Tocopherol, Ascorbyl Palmitate, Parfum (Fragrance), Butylene/Ethylene/Styrene Copolymer, Ammonium Glycyrrhizate, Ethylhexyl Palmitate, Vanillin, Pentaerythrityl Tetra-Di-t-Butyl Hydroxyhydrocinnamate, Trihydroxystearin, Sodium Hyaluronate, Limonene, Citral, Benzyl Alcohol, Linalool<br><br><i>The list of ingredients is subject to change, please consult the packaging of the product purchased.</i>\"\n        ],\n        \"semantic_type\": \"\",\n        \"description\": \"\"\n      }\n    }\n  ]\n}"
            }
          },
          "metadata": {},
          "execution_count": 82
        }
      ]
    },
    {
      "cell_type": "code",
      "source": [],
      "metadata": {
        "id": "Uo5qXyKt-2tI"
      },
      "execution_count": null,
      "outputs": []
    }
  ]
}