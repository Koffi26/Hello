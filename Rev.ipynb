{
  "nbformat": 4,
  "nbformat_minor": 0,
  "metadata": {
    "colab": {
      "provenance": [],
      "collapsed_sections": [
        "bBYOV5g08R8l",
        "vbyQdeC_5hhl",
        "SllhlEBI8qiS",
        "ExkzwKA6rEBa"
      ],
      "mount_file_id": "14RRZTkEh4oX6xzp90qrbyvwKXEJGBaM9",
      "authorship_tag": "ABX9TyP3bV5syHo+f7RCznOEsle/",
      "include_colab_link": true
    },
    "kernelspec": {
      "name": "python3",
      "display_name": "Python 3"
    },
    "language_info": {
      "name": "python"
    }
  },
  "cells": [
    {
      "cell_type": "markdown",
      "metadata": {
        "id": "view-in-github",
        "colab_type": "text"
      },
      "source": [
        "<a href=\"https://colab.research.google.com/github/Koffi26/Hello/blob/master/Rev.ipynb\" target=\"_parent\"><img src=\"https://colab.research.google.com/assets/colab-badge.svg\" alt=\"Open In Colab\"/></a>"
      ]
    },
    {
      "cell_type": "markdown",
      "source": [
        "# NLP Using Sephora Comments\n",
        "\n",
        "\n",
        "---\n",
        "\n",
        "\n"
      ],
      "metadata": {
        "id": "oZr9at6t8NH5"
      }
    },
    {
      "cell_type": "markdown",
      "source": [
        "## Files directions and modules\n"
      ],
      "metadata": {
        "id": "bBYOV5g08R8l"
      }
    },
    {
      "cell_type": "code",
      "execution_count": null,
      "metadata": {
        "id": "lO3CPR7jzqt4"
      },
      "outputs": [],
      "source": [
        "inputPath = \"/content/drive/MyDrive/Reviews/raw\"\n",
        "outputPath = \"/content/drive/MyDrive/Reviews/cleaned\""
      ]
    },
    {
      "cell_type": "code",
      "source": [
        "import pandas as pd\n",
        "import re\n",
        "from pyspark.sql import SparkSession\n",
        "spark = SparkSession.builder.master(\"local[*]\").getOrCreate()"
      ],
      "metadata": {
        "id": "XS5Rr53cz0vv"
      },
      "execution_count": 178,
      "outputs": []
    },
    {
      "cell_type": "markdown",
      "source": [
        "## Get Cleaned Informations"
      ],
      "metadata": {
        "id": "w-HECQc08XyF"
      }
    },
    {
      "cell_type": "markdown",
      "source": [
        "### Get General Information\n"
      ],
      "metadata": {
        "id": "vbyQdeC_5hhl"
      }
    },
    {
      "cell_type": "code",
      "source": [
        "dbs = pd.read_json(f\"{inputPath}/productInformations.json\")\n",
        "dbs['skuId'] = dbs['skuId'].astype(str)\n",
        "information = [\"skuId\",\"brandName\",\"displayName\",\"isNew\",\"listPrice\",\"productName\",\"size\",\"productId\",\n",
        "'Category1', 'Category2', 'Category3', 'brand','lovesCount', 'rating', 'reviews',\n",
        "  'update']\n",
        "GeneralInfo = dbs[information]\n",
        "GeneralInfo['listPrice'] = GeneralInfo['listPrice'].fillna(0)\n",
        "GeneralInfo['listPrice'] = GeneralInfo['listPrice'].apply(lambda x : float(str(x).replace(\"$\",\"\")))\n",
        "GeneralInfo.drop_duplicates(subset=\"skuId\",inplace=True)\n",
        "GeneralInfo.to_csv(f\"{outputPath}/AgregateInfo.csv\",index=False)"
      ],
      "metadata": {
        "colab": {
          "base_uri": "https://localhost:8080/"
        },
        "id": "CV1jOBroz3YI",
        "outputId": "5133c449-efa5-4507-8b61-c9a1ca61a776"
      },
      "execution_count": null,
      "outputs": [
        {
          "output_type": "stream",
          "name": "stderr",
          "text": [
            "<ipython-input-3-3b5ec7a42256>:7: SettingWithCopyWarning: \n",
            "A value is trying to be set on a copy of a slice from a DataFrame.\n",
            "Try using .loc[row_indexer,col_indexer] = value instead\n",
            "\n",
            "See the caveats in the documentation: https://pandas.pydata.org/pandas-docs/stable/user_guide/indexing.html#returning-a-view-versus-a-copy\n",
            "  GeneralInfo['listPrice'] = GeneralInfo['listPrice'].fillna(0)\n",
            "<ipython-input-3-3b5ec7a42256>:8: SettingWithCopyWarning: \n",
            "A value is trying to be set on a copy of a slice from a DataFrame.\n",
            "Try using .loc[row_indexer,col_indexer] = value instead\n",
            "\n",
            "See the caveats in the documentation: https://pandas.pydata.org/pandas-docs/stable/user_guide/indexing.html#returning-a-view-versus-a-copy\n",
            "  GeneralInfo['listPrice'] = GeneralInfo['listPrice'].apply(lambda x : float(str(x).replace(\"$\",\"\")))\n",
            "<ipython-input-3-3b5ec7a42256>:9: SettingWithCopyWarning: \n",
            "A value is trying to be set on a copy of a slice from a DataFrame\n",
            "\n",
            "See the caveats in the documentation: https://pandas.pydata.org/pandas-docs/stable/user_guide/indexing.html#returning-a-view-versus-a-copy\n",
            "  GeneralInfo.drop_duplicates(subset=\"skuId\",inplace=True)\n"
          ]
        }
      ]
    },
    {
      "cell_type": "markdown",
      "source": [
        "### Get Highlights"
      ],
      "metadata": {
        "id": "SllhlEBI8qiS"
      }
    },
    {
      "source": [
        "highlight_df = []\n",
        "for idx,i in enumerate(dbs['highlights']) :\n",
        "  dt = dbs['highlights'][idx]\n",
        "  # Check if dt is a list before iterating\n",
        "  if isinstance(dt, list):\n",
        "    high = pd.DataFrame({\n",
        "        'skuId' : dbs['skuId'][idx],\n",
        "        'highlights' : [i['altText'] for i in dt if dt]\n",
        "    })\n",
        "    highlight_df.append(high)\n",
        "  else:\n",
        "    high = pd.DataFrame({\n",
        "        'skuId' : [dbs['skuId'][idx]],\n",
        "        'highlights' : [[]]\n",
        "    })\n",
        "    highlight_df.append(high)\n",
        "highlight_df = pd.concat(highlight_df)\n",
        "highlight_df = highlight_df.explode('highlights')\n",
        "highlight_df.to_csv(f\"{outputPath}/AgregateHighlights.csv\",index=False)"
      ],
      "cell_type": "code",
      "metadata": {
        "id": "OhrID_V67VPk"
      },
      "execution_count": null,
      "outputs": []
    },
    {
      "cell_type": "markdown",
      "source": [
        "## NLP on ShortDesc & Ingredients"
      ],
      "metadata": {
        "id": "dA6fLQhi9CsN"
      }
    },
    {
      "cell_type": "markdown",
      "source": [
        "### Ingredients"
      ],
      "metadata": {
        "id": "ExkzwKA6rEBa"
      }
    },
    {
      "cell_type": "code",
      "source": [
        "def getHighlightIng(text):\n",
        "  text = text.replace(\"<br><br>Please be aware that ingredient lists may change or vary from time to time.  Please refer to the ingredient list on the product package you receive for the most up to date list of ingredients\",\"\")\n",
        "  text = text.replace(\"<br><br>.<br><br><i>The list of ingredients is subject to change, please consult the packaging of the product purchased.</i>\",\"\")\n",
        "  text = text.replace(\"<br><br><i>The list of ingredients is subject to change, please consult the packaging of the product purchased.</i>\",\"\")\n",
        "  text = text.replace('<br><br>*','')\n",
        "  if not '<br><br>' in text :\n",
        "    StarIng = None\n",
        "  else :\n",
        "    StarIng = text.split('<br><br>')[0]\n",
        "    StarIng = StarIng.split('<br>')\n",
        "    StarIng = [{i.split(\":\")[0].replace('-','').lstrip() : i.split(\":\")[-1].lstrip().rstrip()}\n",
        "               for i in StarIng]\n",
        "\n",
        "  return StarIng"
      ],
      "metadata": {
        "id": "Uo5qXyKt-2tI"
      },
      "execution_count": 172,
      "outputs": []
    },
    {
      "cell_type": "code",
      "source": [
        "ingredientDesc = dbs[(dbs['Category3']!=\"Value & Gift Sets\") & (dbs['Category2']!=\"Value & Gift Sets\")  & (dbs['Category1']!=\"Value & Gift Sets\") & (dbs['Category3']!=\"Eye Palettes\")]\n",
        "ingredientDesc = ingredientDesc[['skuId','ingredientDesc']]\n",
        "ingredientDesc.drop_duplicates(subset=\"skuId\",inplace=True)\n",
        "ingredientDesc.dropna(inplace=True)\n",
        "ingredientDesc.drop_duplicates(subset=\"skuId\",inplace=True)\n",
        "ingredientDesc.reset_index(drop=True,inplace=True)\n",
        "ingredientDesc['starIng'] = ingredientDesc['ingredientDesc'].apply(lambda x : getHighlightIng(x))\n",
        "ingredientDesc.dropna(inplace=True)\n",
        "ingredientDesc = ingredientDesc.explode('starIng')\n",
        "ingredientDesc.drop(columns=['ingredientDesc'],inplace=True)\n",
        "ingredientDesc['Comments'] = ingrsedientDesc['starIng'].apply(lambda x : list(x.values())[0])\n",
        "ingredientDesc['starIng'] = ingredientDesc['starIng'].apply(lambda x : list(x.keys())[0])\n",
        "ingredientDesc.reset_index(drop=True,inplace=True)\n",
        "ingredientDesc.to_csv(f\"{outputPath}/starIngredients.csv\",index=False)"
      ],
      "metadata": {
        "id": "Y5flv-f-89CC"
      },
      "execution_count": 171,
      "outputs": []
    },
    {
      "cell_type": "markdown",
      "source": [
        "### ShortDesc"
      ],
      "metadata": {
        "id": "ivX-ybsltBMa"
      }
    },
    {
      "cell_type": "code",
      "source": [
        "shortDesc = dbs[(dbs['Category3']!=\"Value & Gift Sets\") & (dbs['Category2']!=\"Value & Gift Sets\")  & (dbs['Category1']!=\"Value & Gift Sets\")]\n",
        "shortDesc = shortDesc[['skuId','shortDesc']]\n",
        "shortDesc.drop_duplicates(subset=\"skuId\",inplace=True)"
      ],
      "metadata": {
        "id": "yCt9zgHktu0Z"
      },
      "execution_count": 186,
      "outputs": []
    },
    {
      "cell_type": "code",
      "source": [
        "test = shortDesc[\"shortDesc\"][0]"
      ],
      "metadata": {
        "id": "_eoOBo6gwTOA"
      },
      "execution_count": 190,
      "outputs": []
    },
    {
      "cell_type": "code",
      "source": [],
      "metadata": {
        "id": "Bz5yb8FcwjTq"
      },
      "execution_count": null,
      "outputs": []
    }
  ]
}